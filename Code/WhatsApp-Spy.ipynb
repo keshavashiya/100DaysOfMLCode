{
 "cells": [
  {
   "cell_type": "code",
   "execution_count": null,
   "metadata": {},
   "outputs": [],
   "source": []
  },
  {
   "cell_type": "code",
   "execution_count": 3,
   "metadata": {},
   "outputs": [],
   "source": [
    "import os\n",
    "import time\n",
    "import datetime\n",
    "import csv\n",
    "import pandas as pd\n",
    "# os.environ[\"PATH\"]# += os.pathsep + r'/home/hamza/chromedriver';"
   ]
  },
  {
   "cell_type": "code",
   "execution_count": 4,
   "metadata": {},
   "outputs": [],
   "source": [
    "from selenium import webdriver\n",
    "driver = webdriver.Chrome(executable_path=\"/home/hamza/chromedriver\")\n",
    "driver.get(\"https://web.whatsapp.com/\")"
   ]
  },
  {
   "cell_type": "code",
   "execution_count": null,
   "metadata": {},
   "outputs": [],
   "source": [
    "# print(driver.find_element_by_class_name('_3TEwt').click())"
   ]
  },
  {
   "cell_type": "code",
   "execution_count": null,
   "metadata": {},
   "outputs": [],
   "source": [
    "# name = 'sheharyar'\n",
    "name = 'ahsun'\n",
    "name = 'wasim'"
   ]
  },
  {
   "cell_type": "code",
   "execution_count": null,
   "metadata": {},
   "outputs": [],
   "source": []
  },
  {
   "cell_type": "code",
   "execution_count": null,
   "metadata": {},
   "outputs": [],
   "source": [
    "for i in driver.find_elements_by_class_name('_25Ooe'):\n",
    "    title = i.text\n",
    "#     print(name, title)\n",
    "    if (title.lower().__contains__(name.lower())):\n",
    "        i.click()"
   ]
  },
  {
   "cell_type": "code",
   "execution_count": null,
   "metadata": {},
   "outputs": [],
   "source": [
    "\n",
    "header = driver.find_element_by_id('main').find_element_by_tag_name('header')\n",
    "# print(header.find_element_by_class_name('_1wjpf').text)\n",
    "\n",
    "import cv2\n",
    "import numpy as np\n",
    "cv2.imshow('asd', np.zeros((10,10)))\n",
    "\n",
    "columns=['datetime','status', 'typing_count']\n",
    "df = pd.DataFrame(columns=columns)\n",
    "\n",
    "df = df.reset_index()\n",
    "del df['index']\n",
    "df.to_csv('hamza.csv')\n",
    "current = False\n",
    "print('Running...')\n",
    "# print('offline')    \n",
    "typing_count = 0\n",
    "while True:\n",
    "\n",
    "    ts = time.time()\n",
    "    st = datetime.datetime.fromtimestamp(ts).strftime('%Y-%m-%d %H:%M:%S')\n",
    "    try:\n",
    "        online = header.find_element_by_class_name('O90ur').text\n",
    "#         print(online)\n",
    "        if not current:\n",
    "            print(online)\n",
    "            current = True\n",
    "            \n",
    "\n",
    "            if online.__contains__('typing'):\n",
    "                typing_count += 1\n",
    "                \n",
    "            #insert log\n",
    "            d = pd.DataFrame([[st,current, typing_count]],columns=columns)\n",
    "            df = df.append(d)    \n",
    "            df = df.reset_index()\n",
    "            del df['index']\n",
    "\n",
    "\n",
    "            with open('hamza.csv', 'w') as f:\n",
    "                df.to_csv(f)\n",
    "\n",
    "    except Exception as e:\n",
    "        if current:\n",
    "            print('offline')    \n",
    "            current = False\n",
    "            d = pd.DataFrame([[st,current, typing_count]],columns=columns)\n",
    "            \n",
    "            df = df.append(d)    \n",
    "            df = df.reset_index()\n",
    "            del df['index']\n",
    "            with open('hamza.csv', 'w') as f:\n",
    "                df.to_csv(f)\n",
    "            typing_count = 0 # resets\n",
    "            \n",
    "\n",
    "    time.sleep(1)\n",
    "\n",
    "    if cv2.waitKey(1) == ord('a'):\n",
    "        break\n"
   ]
  },
  {
   "cell_type": "code",
   "execution_count": null,
   "metadata": {},
   "outputs": [],
   "source": []
  },
  {
   "cell_type": "code",
   "execution_count": null,
   "metadata": {},
   "outputs": [],
   "source": []
  },
  {
   "cell_type": "code",
   "execution_count": null,
   "metadata": {},
   "outputs": [],
   "source": []
  },
  {
   "cell_type": "code",
   "execution_count": null,
   "metadata": {},
   "outputs": [],
   "source": []
  },
  {
   "cell_type": "code",
   "execution_count": null,
   "metadata": {},
   "outputs": [],
   "source": []
  }
 ],
 "metadata": {
  "kernelspec": {
   "display_name": "Python 3",
   "language": "python",
   "name": "python3"
  },
  "language_info": {
   "codemirror_mode": {
    "name": "ipython",
    "version": 3
   },
   "file_extension": ".py",
   "mimetype": "text/x-python",
   "name": "python",
   "nbconvert_exporter": "python",
   "pygments_lexer": "ipython3",
   "version": "3.5.2"
  }
 },
 "nbformat": 4,
 "nbformat_minor": 2
}
