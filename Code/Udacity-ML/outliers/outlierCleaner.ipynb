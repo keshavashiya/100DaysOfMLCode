{
 "cells": [
  {
   "cell_type": "code",
   "execution_count": 18,
   "metadata": {},
   "outputs": [],
   "source": [
    "#!/usr/bin/python\n",
    "\n",
    "import numpy as np\n",
    "from operator import itemgetter\n",
    "\n",
    "def outlierCleaner(predictions, ages, net_worths):\n",
    "    \"\"\"\n",
    "        Clean away the 10% of points that have the largest\n",
    "        residual errors (difference between the prediction\n",
    "        and the actual net worth).\n",
    "\n",
    "        Return a list of tuples named cleaned_data where \n",
    "        each tuple is of the form (age, net_worth, error).\n",
    "    \"\"\"\n",
    "    \n",
    "    cleaned_data = []\n",
    "\n",
    "    ### your code goes here\n",
    "    for pred, y,age in zip(predictions, net_worths, ages):\n",
    "        err = abs(pred - y)\n",
    "        cleaned_data.append((age,y, err))\n",
    "    \n",
    "    \n",
    "    cleaned_data.sort(key=itemgetter(2))\n",
    "    cleaned_data = cleaned_data[: int(len(cleaned_data)* 0.9)]\n",
    "    return cleaned_data\n",
    "\n"
   ]
  },
  {
   "cell_type": "code",
   "execution_count": 19,
   "metadata": {},
   "outputs": [
    {
     "data": {
      "text/plain": [
       "[(1, 1, 0),\n",
       " (2, 2, 0),\n",
       " (5, 5, 0),\n",
       " (6, 6, 0),\n",
       " (7, 7, 0),\n",
       " (8, 8, 0),\n",
       " (9, 9, 0),\n",
       " (4, 3, 1),\n",
       " (10, 9, 1)]"
      ]
     },
     "execution_count": 19,
     "metadata": {},
     "output_type": "execute_result"
    }
   ],
   "source": [
    "outlierCleaner(\n",
    "    [1,2,3,4,5,6,7,8,9,10],\n",
    "    [1,2,3,4,5,6,7,8,9,10],\n",
    "    [1,2,1,3,5,6,7,8,9,9])"
   ]
  },
  {
   "cell_type": "code",
   "execution_count": null,
   "metadata": {},
   "outputs": [],
   "source": []
  }
 ],
 "metadata": {
  "kernelspec": {
   "display_name": "Python 3",
   "language": "python",
   "name": "python3"
  },
  "language_info": {
   "codemirror_mode": {
    "name": "ipython",
    "version": 3
   },
   "file_extension": ".py",
   "mimetype": "text/x-python",
   "name": "python",
   "nbconvert_exporter": "python",
   "pygments_lexer": "ipython3",
   "version": "3.5.2"
  }
 },
 "nbformat": 4,
 "nbformat_minor": 2
}
